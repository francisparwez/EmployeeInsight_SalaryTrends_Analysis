{
 "cells": [
  {
   "cell_type": "code",
   "execution_count": 1,
   "id": "68543162",
   "metadata": {},
   "outputs": [],
   "source": [
    "# pip install pandas matplotlib seaborn"
   ]
  },
  {
   "cell_type": "code",
   "execution_count": 2,
   "id": "0dcb0686",
   "metadata": {},
   "outputs": [],
   "source": [
    "import pandas as pd\n",
    "import matplotlib.pyplot as plt\n",
    "import seaborn as sns"
   ]
  },
  {
   "cell_type": "code",
   "execution_count": 3,
   "id": "1ab4da27",
   "metadata": {},
   "outputs": [],
   "source": [
    "df = pd.read_csv(\"employee_records.csv\")"
   ]
  },
  {
   "cell_type": "code",
   "execution_count": 4,
   "id": "495f81b9",
   "metadata": {},
   "outputs": [
    {
     "data": {
      "text/html": [
       "<div>\n",
       "<style scoped>\n",
       "    .dataframe tbody tr th:only-of-type {\n",
       "        vertical-align: middle;\n",
       "    }\n",
       "\n",
       "    .dataframe tbody tr th {\n",
       "        vertical-align: top;\n",
       "    }\n",
       "\n",
       "    .dataframe thead th {\n",
       "        text-align: right;\n",
       "    }\n",
       "</style>\n",
       "<table border=\"1\" class=\"dataframe\">\n",
       "  <thead>\n",
       "    <tr style=\"text-align: right;\">\n",
       "      <th></th>\n",
       "      <th>Employee_ID</th>\n",
       "      <th>Employee_Name</th>\n",
       "      <th>Age</th>\n",
       "      <th>Country</th>\n",
       "      <th>Department</th>\n",
       "      <th>Position</th>\n",
       "      <th>Salary</th>\n",
       "      <th>Joining_Date</th>\n",
       "    </tr>\n",
       "  </thead>\n",
       "  <tbody>\n",
       "    <tr>\n",
       "      <th>0</th>\n",
       "      <td>1</td>\n",
       "      <td>Daniel Taylor</td>\n",
       "      <td>25</td>\n",
       "      <td>UK</td>\n",
       "      <td>HR</td>\n",
       "      <td>Analyst</td>\n",
       "      <td>142278.32</td>\n",
       "      <td>2023-06-04</td>\n",
       "    </tr>\n",
       "    <tr>\n",
       "      <th>1</th>\n",
       "      <td>2</td>\n",
       "      <td>Ethan Brown</td>\n",
       "      <td>44</td>\n",
       "      <td>India</td>\n",
       "      <td>Marketing</td>\n",
       "      <td>Executive</td>\n",
       "      <td>98549.20</td>\n",
       "      <td>2018-01-13</td>\n",
       "    </tr>\n",
       "    <tr>\n",
       "      <th>2</th>\n",
       "      <td>3</td>\n",
       "      <td>Sophia Martinez</td>\n",
       "      <td>51</td>\n",
       "      <td>Japan</td>\n",
       "      <td>Finance</td>\n",
       "      <td>Developer</td>\n",
       "      <td>85565.84</td>\n",
       "      <td>2015-04-30</td>\n",
       "    </tr>\n",
       "    <tr>\n",
       "      <th>3</th>\n",
       "      <td>4</td>\n",
       "      <td>Ethan Martinez</td>\n",
       "      <td>47</td>\n",
       "      <td>Germany</td>\n",
       "      <td>Support</td>\n",
       "      <td>Analyst</td>\n",
       "      <td>34513.67</td>\n",
       "      <td>2015-06-17</td>\n",
       "    </tr>\n",
       "    <tr>\n",
       "      <th>4</th>\n",
       "      <td>5</td>\n",
       "      <td>Mia Brown</td>\n",
       "      <td>32</td>\n",
       "      <td>Australia</td>\n",
       "      <td>Support</td>\n",
       "      <td>Consultant</td>\n",
       "      <td>45339.72</td>\n",
       "      <td>2019-02-22</td>\n",
       "    </tr>\n",
       "    <tr>\n",
       "      <th>5</th>\n",
       "      <td>6</td>\n",
       "      <td>Ava Moore</td>\n",
       "      <td>35</td>\n",
       "      <td>Japan</td>\n",
       "      <td>HR</td>\n",
       "      <td>Executive</td>\n",
       "      <td>90973.25</td>\n",
       "      <td>2018-09-29</td>\n",
       "    </tr>\n",
       "    <tr>\n",
       "      <th>6</th>\n",
       "      <td>7</td>\n",
       "      <td>Mason Brown</td>\n",
       "      <td>48</td>\n",
       "      <td>UK</td>\n",
       "      <td>Finance</td>\n",
       "      <td>Assistant</td>\n",
       "      <td>58227.95</td>\n",
       "      <td>2021-08-24</td>\n",
       "    </tr>\n",
       "    <tr>\n",
       "      <th>7</th>\n",
       "      <td>8</td>\n",
       "      <td>Mason Anderson</td>\n",
       "      <td>45</td>\n",
       "      <td>USA</td>\n",
       "      <td>Finance</td>\n",
       "      <td>Manager</td>\n",
       "      <td>147839.10</td>\n",
       "      <td>2021-01-08</td>\n",
       "    </tr>\n",
       "    <tr>\n",
       "      <th>8</th>\n",
       "      <td>9</td>\n",
       "      <td>Sophia Wilson</td>\n",
       "      <td>40</td>\n",
       "      <td>Brazil</td>\n",
       "      <td>Marketing</td>\n",
       "      <td>Developer</td>\n",
       "      <td>126394.86</td>\n",
       "      <td>2018-12-20</td>\n",
       "    </tr>\n",
       "    <tr>\n",
       "      <th>9</th>\n",
       "      <td>10</td>\n",
       "      <td>Ava Martinez</td>\n",
       "      <td>40</td>\n",
       "      <td>India</td>\n",
       "      <td>Sales</td>\n",
       "      <td>Manager</td>\n",
       "      <td>119828.28</td>\n",
       "      <td>2018-05-18</td>\n",
       "    </tr>\n",
       "  </tbody>\n",
       "</table>\n",
       "</div>"
      ],
      "text/plain": [
       "   Employee_ID    Employee_Name  Age    Country Department    Position  \\\n",
       "0            1    Daniel Taylor   25         UK         HR     Analyst   \n",
       "1            2      Ethan Brown   44      India  Marketing   Executive   \n",
       "2            3  Sophia Martinez   51      Japan    Finance   Developer   \n",
       "3            4   Ethan Martinez   47    Germany    Support     Analyst   \n",
       "4            5        Mia Brown   32  Australia    Support  Consultant   \n",
       "5            6        Ava Moore   35      Japan         HR   Executive   \n",
       "6            7      Mason Brown   48         UK    Finance   Assistant   \n",
       "7            8   Mason Anderson   45        USA    Finance     Manager   \n",
       "8            9    Sophia Wilson   40     Brazil  Marketing   Developer   \n",
       "9           10     Ava Martinez   40      India      Sales     Manager   \n",
       "\n",
       "      Salary Joining_Date  \n",
       "0  142278.32   2023-06-04  \n",
       "1   98549.20   2018-01-13  \n",
       "2   85565.84   2015-04-30  \n",
       "3   34513.67   2015-06-17  \n",
       "4   45339.72   2019-02-22  \n",
       "5   90973.25   2018-09-29  \n",
       "6   58227.95   2021-08-24  \n",
       "7  147839.10   2021-01-08  \n",
       "8  126394.86   2018-12-20  \n",
       "9  119828.28   2018-05-18  "
      ]
     },
     "execution_count": 4,
     "metadata": {},
     "output_type": "execute_result"
    }
   ],
   "source": [
    "df.head(10)"
   ]
  },
  {
   "cell_type": "code",
   "execution_count": 5,
   "id": "bf76be52",
   "metadata": {},
   "outputs": [
    {
     "data": {
      "text/plain": [
       "(30000, 8)"
      ]
     },
     "execution_count": 5,
     "metadata": {},
     "output_type": "execute_result"
    }
   ],
   "source": [
    "df.shape"
   ]
  },
  {
   "cell_type": "markdown",
   "id": "5ae1e1b2",
   "metadata": {},
   "source": [
    "### 1. Get all records of employees from the UK."
   ]
  },
  {
   "cell_type": "code",
   "execution_count": 6,
   "id": "73352dca",
   "metadata": {},
   "outputs": [
    {
     "data": {
      "text/html": [
       "<div>\n",
       "<style scoped>\n",
       "    .dataframe tbody tr th:only-of-type {\n",
       "        vertical-align: middle;\n",
       "    }\n",
       "\n",
       "    .dataframe tbody tr th {\n",
       "        vertical-align: top;\n",
       "    }\n",
       "\n",
       "    .dataframe thead th {\n",
       "        text-align: right;\n",
       "    }\n",
       "</style>\n",
       "<table border=\"1\" class=\"dataframe\">\n",
       "  <thead>\n",
       "    <tr style=\"text-align: right;\">\n",
       "      <th></th>\n",
       "      <th>Employee_ID</th>\n",
       "      <th>Employee_Name</th>\n",
       "      <th>Age</th>\n",
       "      <th>Country</th>\n",
       "      <th>Department</th>\n",
       "      <th>Position</th>\n",
       "      <th>Salary</th>\n",
       "      <th>Joining_Date</th>\n",
       "    </tr>\n",
       "  </thead>\n",
       "  <tbody>\n",
       "    <tr>\n",
       "      <th>0</th>\n",
       "      <td>1</td>\n",
       "      <td>Daniel Taylor</td>\n",
       "      <td>25</td>\n",
       "      <td>UK</td>\n",
       "      <td>HR</td>\n",
       "      <td>Analyst</td>\n",
       "      <td>142278.32</td>\n",
       "      <td>2023-06-04</td>\n",
       "    </tr>\n",
       "    <tr>\n",
       "      <th>6</th>\n",
       "      <td>7</td>\n",
       "      <td>Mason Brown</td>\n",
       "      <td>48</td>\n",
       "      <td>UK</td>\n",
       "      <td>Finance</td>\n",
       "      <td>Assistant</td>\n",
       "      <td>58227.95</td>\n",
       "      <td>2021-08-24</td>\n",
       "    </tr>\n",
       "    <tr>\n",
       "      <th>20</th>\n",
       "      <td>21</td>\n",
       "      <td>Sophia Brown</td>\n",
       "      <td>49</td>\n",
       "      <td>UK</td>\n",
       "      <td>Finance</td>\n",
       "      <td>Consultant</td>\n",
       "      <td>68754.50</td>\n",
       "      <td>2022-08-24</td>\n",
       "    </tr>\n",
       "    <tr>\n",
       "      <th>29</th>\n",
       "      <td>30</td>\n",
       "      <td>Sophia Martinez</td>\n",
       "      <td>52</td>\n",
       "      <td>UK</td>\n",
       "      <td>Sales</td>\n",
       "      <td>Manager</td>\n",
       "      <td>138677.05</td>\n",
       "      <td>2022-08-03</td>\n",
       "    </tr>\n",
       "    <tr>\n",
       "      <th>65</th>\n",
       "      <td>66</td>\n",
       "      <td>Logan Brown</td>\n",
       "      <td>59</td>\n",
       "      <td>UK</td>\n",
       "      <td>Sales</td>\n",
       "      <td>Manager</td>\n",
       "      <td>91702.79</td>\n",
       "      <td>2020-07-14</td>\n",
       "    </tr>\n",
       "    <tr>\n",
       "      <th>...</th>\n",
       "      <td>...</td>\n",
       "      <td>...</td>\n",
       "      <td>...</td>\n",
       "      <td>...</td>\n",
       "      <td>...</td>\n",
       "      <td>...</td>\n",
       "      <td>...</td>\n",
       "      <td>...</td>\n",
       "    </tr>\n",
       "    <tr>\n",
       "      <th>29952</th>\n",
       "      <td>29953</td>\n",
       "      <td>Mason Wilson</td>\n",
       "      <td>24</td>\n",
       "      <td>UK</td>\n",
       "      <td>Engineering</td>\n",
       "      <td>Analyst</td>\n",
       "      <td>39309.52</td>\n",
       "      <td>2019-06-06</td>\n",
       "    </tr>\n",
       "    <tr>\n",
       "      <th>29959</th>\n",
       "      <td>29960</td>\n",
       "      <td>Ava Taylor</td>\n",
       "      <td>45</td>\n",
       "      <td>UK</td>\n",
       "      <td>HR</td>\n",
       "      <td>Developer</td>\n",
       "      <td>32171.67</td>\n",
       "      <td>2018-08-13</td>\n",
       "    </tr>\n",
       "    <tr>\n",
       "      <th>29974</th>\n",
       "      <td>29975</td>\n",
       "      <td>Ava Martinez</td>\n",
       "      <td>42</td>\n",
       "      <td>UK</td>\n",
       "      <td>Support</td>\n",
       "      <td>Consultant</td>\n",
       "      <td>31018.49</td>\n",
       "      <td>2021-05-02</td>\n",
       "    </tr>\n",
       "    <tr>\n",
       "      <th>29977</th>\n",
       "      <td>29978</td>\n",
       "      <td>Mia Jackson</td>\n",
       "      <td>27</td>\n",
       "      <td>UK</td>\n",
       "      <td>HR</td>\n",
       "      <td>Developer</td>\n",
       "      <td>33272.65</td>\n",
       "      <td>2016-04-27</td>\n",
       "    </tr>\n",
       "    <tr>\n",
       "      <th>29988</th>\n",
       "      <td>29989</td>\n",
       "      <td>Emma Thomas</td>\n",
       "      <td>51</td>\n",
       "      <td>UK</td>\n",
       "      <td>HR</td>\n",
       "      <td>Assistant</td>\n",
       "      <td>134599.76</td>\n",
       "      <td>2018-05-28</td>\n",
       "    </tr>\n",
       "  </tbody>\n",
       "</table>\n",
       "<p>3021 rows × 8 columns</p>\n",
       "</div>"
      ],
      "text/plain": [
       "       Employee_ID    Employee_Name  Age Country   Department    Position  \\\n",
       "0                1    Daniel Taylor   25      UK           HR     Analyst   \n",
       "6                7      Mason Brown   48      UK      Finance   Assistant   \n",
       "20              21     Sophia Brown   49      UK      Finance  Consultant   \n",
       "29              30  Sophia Martinez   52      UK        Sales     Manager   \n",
       "65              66      Logan Brown   59      UK        Sales     Manager   \n",
       "...            ...              ...  ...     ...          ...         ...   \n",
       "29952        29953     Mason Wilson   24      UK  Engineering     Analyst   \n",
       "29959        29960       Ava Taylor   45      UK           HR   Developer   \n",
       "29974        29975     Ava Martinez   42      UK      Support  Consultant   \n",
       "29977        29978      Mia Jackson   27      UK           HR   Developer   \n",
       "29988        29989      Emma Thomas   51      UK           HR   Assistant   \n",
       "\n",
       "          Salary Joining_Date  \n",
       "0      142278.32   2023-06-04  \n",
       "6       58227.95   2021-08-24  \n",
       "20      68754.50   2022-08-24  \n",
       "29     138677.05   2022-08-03  \n",
       "65      91702.79   2020-07-14  \n",
       "...          ...          ...  \n",
       "29952   39309.52   2019-06-06  \n",
       "29959   32171.67   2018-08-13  \n",
       "29974   31018.49   2021-05-02  \n",
       "29977   33272.65   2016-04-27  \n",
       "29988  134599.76   2018-05-28  \n",
       "\n",
       "[3021 rows x 8 columns]"
      ]
     },
     "execution_count": 6,
     "metadata": {},
     "output_type": "execute_result"
    }
   ],
   "source": [
    "df[df['Country'] == \"UK\"]"
   ]
  },
  {
   "cell_type": "markdown",
   "id": "96032f07",
   "metadata": {},
   "source": [
    "### 2. Retrieve the list of distinct departments."
   ]
  },
  {
   "cell_type": "code",
   "execution_count": 7,
   "id": "28ff5641",
   "metadata": {},
   "outputs": [
    {
     "data": {
      "text/plain": [
       "['HR', 'Marketing', 'Finance', 'Support', 'Sales', 'Engineering']"
      ]
     },
     "execution_count": 7,
     "metadata": {},
     "output_type": "execute_result"
    }
   ],
   "source": [
    "df['Department'].unique().tolist()"
   ]
  },
  {
   "cell_type": "markdown",
   "id": "58e3b61c",
   "metadata": {},
   "source": [
    "### 3. Count total employees by country."
   ]
  },
  {
   "cell_type": "code",
   "execution_count": 8,
   "id": "35ab5623",
   "metadata": {},
   "outputs": [
    {
     "data": {
      "text/plain": [
       "Country\n",
       "Germany      3090\n",
       "Australia    3052\n",
       "UK           3021\n",
       "France       3010\n",
       "Mexico       2991\n",
       "India        2985\n",
       "Canada       2969\n",
       "USA          2967\n",
       "Brazil       2961\n",
       "Japan        2954\n",
       "Name: count, dtype: int64"
      ]
     },
     "execution_count": 8,
     "metadata": {},
     "output_type": "execute_result"
    }
   ],
   "source": [
    "emp_by_country = df['Country'].value_counts()\n",
    "emp_by_country"
   ]
  },
  {
   "cell_type": "code",
   "execution_count": 9,
   "id": "b21cd04a",
   "metadata": {},
   "outputs": [
    {
     "data": {
      "text/plain": [
       "<Axes: title={'center': 'Employee Count BY Country'}, xlabel='Country'>"
      ]
     },
     "execution_count": 9,
     "metadata": {},
     "output_type": "execute_result"
    },
    {
     "data": {
      "image/png": "[encoded data removed]",
      "text/plain": [
       "<Figure size 640x480 with 1 Axes>"
      ]
     },
     "metadata": {},
     "output_type": "display_data"
    }
   ],
   "source": [
    "emp_by_country.plot(kind='bar', title='Employee Count BY Country')"
   ]
  },
  {
   "cell_type": "markdown",
   "id": "4908db37",
   "metadata": {},
   "source": [
    "### 💼 4. Find the Average Salary of Employees in Each Department\n",
    "\n",
    "To analyze salaries by department, we use the following steps:\n",
    "\n",
    "- **`groupby('Department')`** → groups data by department  \n",
    "- **`['Salary'].mean()`** → calculates average salary within each group  \n",
    "- **`round()`** → round off the numbers  \n",
    "- **`sort_values()`** → sorts to easily see highest-paying departments  \n",
    "- **`apply(int)`** → cast the numbers to integer  \n",
    "\n",
    "📊 This gives a clear overview of which departments pay the most!"
   ]
  },
  {
   "cell_type": "code",
   "execution_count": 10,
   "id": "21a5e9ec",
   "metadata": {},
   "outputs": [
    {
     "data": {
      "text/plain": [
       "Department\n",
       "Support        90649\n",
       "Engineering    90160\n",
       "HR             89930\n",
       "Marketing      89834\n",
       "Finance        89527\n",
       "Sales          88854\n",
       "Name: Salary, dtype: int64"
      ]
     },
     "execution_count": 10,
     "metadata": {},
     "output_type": "execute_result"
    }
   ],
   "source": [
    "avg_salary_by_dept = df.groupby('Department')\\\n",
    "                        ['Salary'].mean()\\\n",
    "                        .round()\\\n",
    "                        .sort_values(ascending=False)\\\n",
    "                        .apply(int)\n",
    "avg_salary_by_dept"
   ]
  },
  {
   "cell_type": "markdown",
   "id": "7882b10c",
   "metadata": {},
   "source": [
    "### 5. Show the top 10 highest-paid employees."
   ]
  },
  {
   "cell_type": "code",
   "execution_count": 11,
   "id": "5ba4b1c0",
   "metadata": {},
   "outputs": [
    {
     "data": {
      "text/html": [
       "<div>\n",
       "<style scoped>\n",
       "    .dataframe tbody tr th:only-of-type {\n",
       "        vertical-align: middle;\n",
       "    }\n",
       "\n",
       "    .dataframe tbody tr th {\n",
       "        vertical-align: top;\n",
       "    }\n",
       "\n",
       "    .dataframe thead th {\n",
       "        text-align: right;\n",
       "    }\n",
       "</style>\n",
       "<table border=\"1\" class=\"dataframe\">\n",
       "  <thead>\n",
       "    <tr style=\"text-align: right;\">\n",
       "      <th></th>\n",
       "      <th>Employee_ID</th>\n",
       "      <th>Employee_Name</th>\n",
       "      <th>Age</th>\n",
       "      <th>Country</th>\n",
       "      <th>Department</th>\n",
       "      <th>Position</th>\n",
       "      <th>Salary</th>\n",
       "      <th>Joining_Date</th>\n",
       "    </tr>\n",
       "  </thead>\n",
       "  <tbody>\n",
       "    <tr>\n",
       "      <th>23665</th>\n",
       "      <td>23666</td>\n",
       "      <td>Mason Taylor</td>\n",
       "      <td>38</td>\n",
       "      <td>Germany</td>\n",
       "      <td>Sales</td>\n",
       "      <td>Developer</td>\n",
       "      <td>149996.39</td>\n",
       "      <td>2019-02-19</td>\n",
       "    </tr>\n",
       "    <tr>\n",
       "      <th>4445</th>\n",
       "      <td>4446</td>\n",
       "      <td>Lucas Martinez</td>\n",
       "      <td>42</td>\n",
       "      <td>Germany</td>\n",
       "      <td>HR</td>\n",
       "      <td>Developer</td>\n",
       "      <td>149995.00</td>\n",
       "      <td>2022-01-28</td>\n",
       "    </tr>\n",
       "    <tr>\n",
       "      <th>17204</th>\n",
       "      <td>17205</td>\n",
       "      <td>Ethan Moore</td>\n",
       "      <td>40</td>\n",
       "      <td>France</td>\n",
       "      <td>HR</td>\n",
       "      <td>Manager</td>\n",
       "      <td>149994.40</td>\n",
       "      <td>2023-10-28</td>\n",
       "    </tr>\n",
       "    <tr>\n",
       "      <th>21967</th>\n",
       "      <td>21968</td>\n",
       "      <td>Ava Wilson</td>\n",
       "      <td>54</td>\n",
       "      <td>Japan</td>\n",
       "      <td>Engineering</td>\n",
       "      <td>Analyst</td>\n",
       "      <td>149989.60</td>\n",
       "      <td>2019-08-18</td>\n",
       "    </tr>\n",
       "    <tr>\n",
       "      <th>10465</th>\n",
       "      <td>10466</td>\n",
       "      <td>Mason Wilson</td>\n",
       "      <td>38</td>\n",
       "      <td>Germany</td>\n",
       "      <td>Engineering</td>\n",
       "      <td>Consultant</td>\n",
       "      <td>149989.17</td>\n",
       "      <td>2023-07-28</td>\n",
       "    </tr>\n",
       "    <tr>\n",
       "      <th>1031</th>\n",
       "      <td>1032</td>\n",
       "      <td>Logan Hernandez</td>\n",
       "      <td>41</td>\n",
       "      <td>Japan</td>\n",
       "      <td>Engineering</td>\n",
       "      <td>Developer</td>\n",
       "      <td>149988.02</td>\n",
       "      <td>2018-12-05</td>\n",
       "    </tr>\n",
       "    <tr>\n",
       "      <th>29608</th>\n",
       "      <td>29609</td>\n",
       "      <td>Mia Brown</td>\n",
       "      <td>52</td>\n",
       "      <td>Germany</td>\n",
       "      <td>Sales</td>\n",
       "      <td>Analyst</td>\n",
       "      <td>149987.06</td>\n",
       "      <td>2016-04-16</td>\n",
       "    </tr>\n",
       "    <tr>\n",
       "      <th>17269</th>\n",
       "      <td>17270</td>\n",
       "      <td>Mia Moore</td>\n",
       "      <td>60</td>\n",
       "      <td>Canada</td>\n",
       "      <td>Sales</td>\n",
       "      <td>Developer</td>\n",
       "      <td>149984.83</td>\n",
       "      <td>2020-04-24</td>\n",
       "    </tr>\n",
       "    <tr>\n",
       "      <th>3534</th>\n",
       "      <td>3535</td>\n",
       "      <td>Daniel Thomas</td>\n",
       "      <td>55</td>\n",
       "      <td>Japan</td>\n",
       "      <td>HR</td>\n",
       "      <td>Developer</td>\n",
       "      <td>149983.66</td>\n",
       "      <td>2022-05-12</td>\n",
       "    </tr>\n",
       "    <tr>\n",
       "      <th>17629</th>\n",
       "      <td>17630</td>\n",
       "      <td>Sophia Thomas</td>\n",
       "      <td>37</td>\n",
       "      <td>India</td>\n",
       "      <td>Sales</td>\n",
       "      <td>Executive</td>\n",
       "      <td>149979.37</td>\n",
       "      <td>2024-12-16</td>\n",
       "    </tr>\n",
       "  </tbody>\n",
       "</table>\n",
       "</div>"
      ],
      "text/plain": [
       "       Employee_ID    Employee_Name  Age  Country   Department    Position  \\\n",
       "23665        23666     Mason Taylor   38  Germany        Sales   Developer   \n",
       "4445          4446   Lucas Martinez   42  Germany           HR   Developer   \n",
       "17204        17205      Ethan Moore   40   France           HR     Manager   \n",
       "21967        21968       Ava Wilson   54    Japan  Engineering     Analyst   \n",
       "10465        10466     Mason Wilson   38  Germany  Engineering  Consultant   \n",
       "1031          1032  Logan Hernandez   41    Japan  Engineering   Developer   \n",
       "29608        29609        Mia Brown   52  Germany        Sales     Analyst   \n",
       "17269        17270        Mia Moore   60   Canada        Sales   Developer   \n",
       "3534          3535    Daniel Thomas   55    Japan           HR   Developer   \n",
       "17629        17630    Sophia Thomas   37    India        Sales   Executive   \n",
       "\n",
       "          Salary Joining_Date  \n",
       "23665  149996.39   2019-02-19  \n",
       "4445   149995.00   2022-01-28  \n",
       "17204  149994.40   2023-10-28  \n",
       "21967  149989.60   2019-08-18  \n",
       "10465  149989.17   2023-07-28  \n",
       "1031   149988.02   2018-12-05  \n",
       "29608  149987.06   2016-04-16  \n",
       "17269  149984.83   2020-04-24  \n",
       "3534   149983.66   2022-05-12  \n",
       "17629  149979.37   2024-12-16  "
      ]
     },
     "execution_count": 11,
     "metadata": {},
     "output_type": "execute_result"
    }
   ],
   "source": [
    "df.sort_values(by='Salary', ascending=False).head(10)"
   ]
  },
  {
   "cell_type": "markdown",
   "id": "80c6f24c",
   "metadata": {},
   "source": [
    "### 6. `df.info()`, `df.describe()`"
   ]
  },
  {
   "cell_type": "code",
   "execution_count": 12,
   "id": "736fe9d7",
   "metadata": {},
   "outputs": [
    {
     "name": "stdout",
     "output_type": "stream",
     "text": [
      "<class 'pandas.core.frame.DataFrame'>\n",
      "RangeIndex: 30000 entries, 0 to 29999\n",
      "Data columns (total 8 columns):\n",
      " #   Column         Non-Null Count  Dtype  \n",
      "---  ------         --------------  -----  \n",
      " 0   Employee_ID    30000 non-null  int64  \n",
      " 1   Employee_Name  30000 non-null  object \n",
      " 2   Age            30000 non-null  int64  \n",
      " 3   Country        30000 non-null  object \n",
      " 4   Department     30000 non-null  object \n",
      " 5   Position       30000 non-null  object \n",
      " 6   Salary         30000 non-null  float64\n",
      " 7   Joining_Date   30000 non-null  object \n",
      "dtypes: float64(1), int64(2), object(5)\n",
      "memory usage: 1.8+ MB\n"
     ]
    }
   ],
   "source": [
    "df.info()"
   ]
  },
  {
   "cell_type": "code",
   "execution_count": 13,
   "id": "78309ba5",
   "metadata": {},
   "outputs": [
    {
     "data": {
      "text/html": [
       "<div>\n",
       "<style scoped>\n",
       "    .dataframe tbody tr th:only-of-type {\n",
       "        vertical-align: middle;\n",
       "    }\n",
       "\n",
       "    .dataframe tbody tr th {\n",
       "        vertical-align: top;\n",
       "    }\n",
       "\n",
       "    .dataframe thead th {\n",
       "        text-align: right;\n",
       "    }\n",
       "</style>\n",
       "<table border=\"1\" class=\"dataframe\">\n",
       "  <thead>\n",
       "    <tr style=\"text-align: right;\">\n",
       "      <th></th>\n",
       "      <th>Employee_ID</th>\n",
       "      <th>Age</th>\n",
       "      <th>Salary</th>\n",
       "    </tr>\n",
       "  </thead>\n",
       "  <tbody>\n",
       "    <tr>\n",
       "      <th>count</th>\n",
       "      <td>30000.000000</td>\n",
       "      <td>30000.000000</td>\n",
       "      <td>30000.000000</td>\n",
       "    </tr>\n",
       "    <tr>\n",
       "      <th>mean</th>\n",
       "      <td>15000.500000</td>\n",
       "      <td>40.978067</td>\n",
       "      <td>89826.142610</td>\n",
       "    </tr>\n",
       "    <tr>\n",
       "      <th>std</th>\n",
       "      <td>8660.398374</td>\n",
       "      <td>11.234432</td>\n",
       "      <td>34625.270533</td>\n",
       "    </tr>\n",
       "    <tr>\n",
       "      <th>min</th>\n",
       "      <td>1.000000</td>\n",
       "      <td>22.000000</td>\n",
       "      <td>30004.780000</td>\n",
       "    </tr>\n",
       "    <tr>\n",
       "      <th>25%</th>\n",
       "      <td>7500.750000</td>\n",
       "      <td>31.000000</td>\n",
       "      <td>59546.715000</td>\n",
       "    </tr>\n",
       "    <tr>\n",
       "      <th>50%</th>\n",
       "      <td>15000.500000</td>\n",
       "      <td>41.000000</td>\n",
       "      <td>89544.810000</td>\n",
       "    </tr>\n",
       "    <tr>\n",
       "      <th>75%</th>\n",
       "      <td>22500.250000</td>\n",
       "      <td>51.000000</td>\n",
       "      <td>119836.545000</td>\n",
       "    </tr>\n",
       "    <tr>\n",
       "      <th>max</th>\n",
       "      <td>30000.000000</td>\n",
       "      <td>60.000000</td>\n",
       "      <td>149996.390000</td>\n",
       "    </tr>\n",
       "  </tbody>\n",
       "</table>\n",
       "</div>"
      ],
      "text/plain": [
       "        Employee_ID           Age         Salary\n",
       "count  30000.000000  30000.000000   30000.000000\n",
       "mean   15000.500000     40.978067   89826.142610\n",
       "std     8660.398374     11.234432   34625.270533\n",
       "min        1.000000     22.000000   30004.780000\n",
       "25%     7500.750000     31.000000   59546.715000\n",
       "50%    15000.500000     41.000000   89544.810000\n",
       "75%    22500.250000     51.000000  119836.545000\n",
       "max    30000.000000     60.000000  149996.390000"
      ]
     },
     "execution_count": 13,
     "metadata": {},
     "output_type": "execute_result"
    }
   ],
   "source": [
    "df.describe()"
   ]
  },
  {
   "cell_type": "markdown",
   "id": "64b5c95f",
   "metadata": {},
   "source": [
    "### 7. Count missing values per column."
   ]
  },
  {
   "cell_type": "code",
   "execution_count": 14,
   "id": "60cf6e51",
   "metadata": {},
   "outputs": [
    {
     "data": {
      "text/plain": [
       "Employee_ID      0\n",
       "Employee_Name    0\n",
       "Age              0\n",
       "Country          0\n",
       "Department       0\n",
       "Position         0\n",
       "Salary           0\n",
       "Joining_Date     0\n",
       "dtype: int64"
      ]
     },
     "execution_count": 14,
     "metadata": {},
     "output_type": "execute_result"
    }
   ],
   "source": [
    "df.isnull().sum()"
   ]
  },
  {
   "cell_type": "markdown",
   "id": "9fa8cbf7",
   "metadata": {},
   "source": [
    "### 8. Plot age distribution (histogram)."
   ]
  },
  {
   "cell_type": "code",
   "execution_count": 15,
   "id": "42b56497",
   "metadata": {},
   "outputs": [
    {
     "data": {
      "image/png": "[encoded data removed]",
      "text/plain": [
       "<Figure size 640x480 with 1 Axes>"
      ]
     },
     "metadata": {},
     "output_type": "display_data"
    }
   ],
   "source": [
    "# fig, ax = plt.subplots(figsize=(12, 9))\n",
    "\n",
    "# # Plot histogram\n",
    "# n, bins, patches = ax.hist(df['Age'], bins=20, edgecolor='black')\n",
    "\n",
    "# # Add labels on top of each bin\n",
    "# for count, x in zip(n, bins):\n",
    "#     if count > 0:  # Only label non-empty bins\n",
    "#         ax.text(x + (bins[1]-bins[0])/2, count, int(count),\n",
    "#                 ha='center', va='bottom', fontsize=9)\n",
    "\n",
    "# ax.set_title('Age Distribution')\n",
    "# ax.set_xlabel('Age')\n",
    "# ax.set_ylabel('Frequency')\n",
    "\n",
    "# plt.show()\n",
    "\n",
    "\n",
    "df['Age'].hist(bins=20, edgecolor='black')\n",
    "plt.title('Age Distribution')\n",
    "plt.xlabel('Age')\n",
    "plt.ylabel('Frequency')\n",
    "plt.show()"
   ]
  },
  {
   "cell_type": "markdown",
   "id": "015dc82c",
   "metadata": {},
   "source": [
    "### 9. Count employees by country (bar plot).\n",
    "\n",
    "- **`value_counts()`** gives the number of employees per country.\n",
    "- **`sns.barplot()`** creates a bar plot with countries on the x-axis and employee counts on the y-axis.\n",
    "- **`plt.xticks(rotation=45)`** rotates labels for readability.\n",
    "- The bar chart helps visualize workforce distribution across countries."
   ]
  },
  {
   "cell_type": "code",
   "execution_count": 16,
   "id": "95facb22",
   "metadata": {},
   "outputs": [
    {
     "data": {
      "image/png": "[encoded data removed]",
      "text/plain": [
       "<Figure size 800x500 with 1 Axes>"
      ]
     },
     "metadata": {},
     "output_type": "display_data"
    }
   ],
   "source": [
    "# Count employees in each country\n",
    "employees_by_country = df['Country'].value_counts()\n",
    "\n",
    "# Plot as bar chart\n",
    "plt.figure(figsize=(8,5))\n",
    "sns.barplot(\n",
    "    x=employees_by_country.index,\n",
    "    y=employees_by_country.values,\n",
    "    hue=employees_by_country.index,  # use x variable as hue\n",
    "    palette=\"viridis\",\n",
    "    legend=False\n",
    ")\n",
    "\n",
    "plt.title(\"Employee Count by Country\", fontsize=14)\n",
    "plt.xlabel(\"Country\", fontsize=12)\n",
    "plt.ylabel(\"Number of Employees\", fontsize=12)\n",
    "plt.xticks(rotation=45)\n",
    "plt.tight_layout()\n",
    "plt.show()\n"
   ]
  },
  {
   "cell_type": "markdown",
   "id": "2c7a6b02",
   "metadata": {},
   "source": [
    "### 10. Salary boxplot per department.\n",
    "\n",
    "- **Boxplots** show the distribution of salaries within each department — including median, quartiles, and outliers.\n",
    "- You can easily compare which departments tend to have higher or more variable salaries.\n",
    "- **`palette='coolwarm'`** adds clear visual contrast between departments."
   ]
  },
  {
   "cell_type": "code",
   "execution_count": 17,
   "id": "ff993622",
   "metadata": {},
   "outputs": [
    {
     "data": {
      "image/png": "[encoded data removed]",
      "text/plain": [
       "<Figure size 1000x600 with 1 Axes>"
      ]
     },
     "metadata": {},
     "output_type": "display_data"
    }
   ],
   "source": [
    "plt.figure(figsize=(10,6))\n",
    "sns.boxplot(data=df, x='Department', y='Salary', hue='Department', palette='coolwarm', legend=False)\n",
    "\n",
    "plt.title(\"Salary Distribution by Department\", fontsize=14)\n",
    "plt.xlabel(\"Department\", fontsize=12)\n",
    "plt.ylabel(\"Salary\", fontsize=12)\n",
    "plt.xticks(rotation=45)\n",
    "plt.tight_layout()\n",
    "plt.show()\n"
   ]
  }
 ],
 "metadata": {
  "kernelspec": {
   "display_name": "Python 3",
   "language": "python",
   "name": "python3"
  },
  "language_info": {
   "codemirror_mode": {
    "name": "ipython",
    "version": 3
   },
   "file_extension": ".py",
   "mimetype": "text/x-python",
   "name": "python",
   "nbconvert_exporter": "python",
   "pygments_lexer": "ipython3",
   "version": "3.14.0"
  }
 },
 "nbformat": 4,
 "nbformat_minor": 5
}
